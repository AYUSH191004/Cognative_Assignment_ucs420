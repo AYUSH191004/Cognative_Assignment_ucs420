{
 "cells": [
  {
   "cell_type": "markdown",
   "metadata": {},
   "source": [
    "Q.1 Write a program to create a NumPy 1D-array with 5 elements and perform basic\n",
    "operations like:\n",
    "\n"
   ]
  },
  {
   "cell_type": "code",
   "execution_count": 2,
   "metadata": {},
   "outputs": [],
   "source": [
    "import numpy as np"
   ]
  },
  {
   "cell_type": "code",
   "execution_count": 3,
   "metadata": {},
   "outputs": [],
   "source": [
    "arr=np.array([2,3,4,5,6])"
   ]
  },
  {
   "cell_type": "markdown",
   "metadata": {},
   "source": [
    "a) Addition of 2 in all the element"
   ]
  },
  {
   "cell_type": "code",
   "execution_count": 4,
   "metadata": {},
   "outputs": [
    {
     "name": "stdout",
     "output_type": "stream",
     "text": [
      "[4 5 6 7 8]\n"
     ]
    }
   ],
   "source": [
    "print(arr+2)"
   ]
  },
  {
   "cell_type": "markdown",
   "metadata": {},
   "source": [
    "b) Multiply 3 with all the elements"
   ]
  },
  {
   "cell_type": "code",
   "execution_count": 5,
   "metadata": {},
   "outputs": [
    {
     "name": "stdout",
     "output_type": "stream",
     "text": [
      "[ 6  9 12 15 18]\n"
     ]
    }
   ],
   "source": [
    "print(arr*3)"
   ]
  },
  {
   "cell_type": "markdown",
   "metadata": {},
   "source": [
    "c) Divide every element by 2"
   ]
  },
  {
   "cell_type": "code",
   "execution_count": 6,
   "metadata": {},
   "outputs": [
    {
     "name": "stdout",
     "output_type": "stream",
     "text": [
      "[1.  1.5 2.  2.5 3. ]\n"
     ]
    }
   ],
   "source": [
    "print(arr/2)"
   ]
  },
  {
   "cell_type": "markdown",
   "metadata": {},
   "source": [
    "Q.2 Questions on Basic NumPy Array:\n"
   ]
  },
  {
   "cell_type": "markdown",
   "metadata": {},
   "source": [
    "a) Reverse the NumPy array: arr = np.array([1, 2, 3, 6, 4, 5])"
   ]
  },
  {
   "cell_type": "code",
   "execution_count": 7,
   "metadata": {},
   "outputs": [
    {
     "name": "stdout",
     "output_type": "stream",
     "text": [
      "[5 4 6 3 2 1]\n"
     ]
    }
   ],
   "source": [
    "arr_2=np.array([1,2,3,6,4,5])\n",
    "reverse_arr = arr_2[::-1]\n",
    "print(reverse_arr)"
   ]
  },
  {
   "cell_type": "markdown",
   "metadata": {},
   "source": [
    "b) Find the most frequent value and their indice(s) in the following arrays:\n",
    "i. x = np.array([1,2,3,4,5,1,2,1,1,1])\n"
   ]
  },
  {
   "cell_type": "code",
   "execution_count": 8,
   "metadata": {},
   "outputs": [
    {
     "data": {
      "text/plain": [
       "(1, array([0, 5, 7, 8, 9], dtype=int64))"
      ]
     },
     "execution_count": 8,
     "metadata": {},
     "output_type": "execute_result"
    }
   ],
   "source": [
    "x = np.array([1,2,3,4,5,1,2,1,1,1])\n",
    "unique, counts = np.unique(x, return_counts=True)\n",
    "most_frequent_value = unique[np.argmax(counts)]\n",
    "indices = np.where(x== most_frequent_value)[0]\n",
    "\n",
    "most_frequent_value, indices"
   ]
  },
  {
   "cell_type": "markdown",
   "metadata": {},
   "source": [
    "ii. y = np.array([1, 1, 1, 2, 3, 4, 2, 4, 3, 3, ])"
   ]
  },
  {
   "cell_type": "code",
   "execution_count": 9,
   "metadata": {},
   "outputs": [
    {
     "data": {
      "text/plain": [
       "(1, array([0, 1, 2], dtype=int64))"
      ]
     },
     "execution_count": 9,
     "metadata": {},
     "output_type": "execute_result"
    }
   ],
   "source": [
    "\n",
    "\n",
    "y = np.array([1, 1, 1, 2, 3, 4, 2, 4, 3, 3])\n",
    "\n",
    "# Find the most frequent value and their indices\n",
    "unique, counts = np.unique(y, return_counts=True)\n",
    "most_frequent_value = unique[np.argmax(counts)]\n",
    "indices = np.where(y == most_frequent_value)[0]\n",
    "\n",
    "most_frequent_value, indices"
   ]
  },
  {
   "cell_type": "markdown",
   "metadata": {},
   "source": [
    "Q.3 For the given 2-D array arr=np.array([10, 20, 30], [40, 50, 60], [70, 80, 90]), access\n",
    "elements using row and column indices as follows:\n",
    "a) Access 1st row, 2nd column\n",
    "b) Access 3rd row, 1st column"
   ]
  },
  {
   "cell_type": "code",
   "execution_count": 10,
   "metadata": {},
   "outputs": [],
   "source": [
    "arr_3=np.array([[10, 20, 30],[40, 50, 60],[70, 80, 90]])"
   ]
  },
  {
   "cell_type": "code",
   "execution_count": 11,
   "metadata": {},
   "outputs": [
    {
     "name": "stdout",
     "output_type": "stream",
     "text": [
      "20\n",
      "70\n"
     ]
    }
   ],
   "source": [
    "print(arr_3[0][1])   ###acess 1st row and 2 nd column\n",
    "print(arr_3[2][0])    ## acess 3rd row and 1st column"
   ]
  },
  {
   "cell_type": "markdown",
   "metadata": {},
   "source": [
    "Q.4 Write program to create an 1-D NumPy array named <<Your Name>> with evenly\n",
    "spaced 25 numbers from 10 to 100 using linspace(). Print the dimensions of the array,\n",
    "shape, total elements, the data type of each element and total number of bytes consumed\n",
    "by the array. Find the transpose of this array using reshape() attribute. Can we do the same\n",
    "with T attribute?"
   ]
  },
  {
   "cell_type": "code",
   "execution_count": 12,
   "metadata": {},
   "outputs": [
    {
     "name": "stdout",
     "output_type": "stream",
     "text": [
      "DIMENSIONS :1\n",
      "SHAPE :(25,)\n",
      "TOTAL ELEMENTS :25\n",
      "Data_type of 10.0 : <class 'numpy.float64'>\n",
      "Data_type of 13.75 : <class 'numpy.float64'>\n",
      "Data_type of 17.5 : <class 'numpy.float64'>\n",
      "Data_type of 21.25 : <class 'numpy.float64'>\n",
      "Data_type of 25.0 : <class 'numpy.float64'>\n",
      "Data_type of 28.75 : <class 'numpy.float64'>\n",
      "Data_type of 32.5 : <class 'numpy.float64'>\n",
      "Data_type of 36.25 : <class 'numpy.float64'>\n",
      "Data_type of 40.0 : <class 'numpy.float64'>\n",
      "Data_type of 43.75 : <class 'numpy.float64'>\n",
      "Data_type of 47.5 : <class 'numpy.float64'>\n",
      "Data_type of 51.25 : <class 'numpy.float64'>\n",
      "Data_type of 55.0 : <class 'numpy.float64'>\n",
      "Data_type of 58.75 : <class 'numpy.float64'>\n",
      "Data_type of 62.5 : <class 'numpy.float64'>\n",
      "Data_type of 66.25 : <class 'numpy.float64'>\n",
      "Data_type of 70.0 : <class 'numpy.float64'>\n",
      "Data_type of 73.75 : <class 'numpy.float64'>\n",
      "Data_type of 77.5 : <class 'numpy.float64'>\n",
      "Data_type of 81.25 : <class 'numpy.float64'>\n",
      "Data_type of 85.0 : <class 'numpy.float64'>\n",
      "Data_type of 88.75 : <class 'numpy.float64'>\n",
      "Data_type of 92.5 : <class 'numpy.float64'>\n",
      "Data_type of 96.25 : <class 'numpy.float64'>\n",
      "Data_type of 100.0 : <class 'numpy.float64'>\n"
     ]
    }
   ],
   "source": [
    "Ayush_arr=np.linspace(10,100,25)\n",
    "print(f\"DIMENSIONS :{Ayush_arr.ndim}\")\n",
    "print(f\"SHAPE :{Ayush_arr.shape}\")\n",
    "print(f\"TOTAL ELEMENTS :{Ayush_arr.size}\")\n",
    "for i in Ayush_arr:\n",
    "  print(f\"Data_type of {i} : {type(i)}\")\n"
   ]
  },
  {
   "cell_type": "code",
   "execution_count": 13,
   "metadata": {},
   "outputs": [
    {
     "name": "stdout",
     "output_type": "stream",
     "text": [
      "total number of bytes comsumed :200\n"
     ]
    }
   ],
   "source": [
    "print(f\"total number of bytes comsumed :{Ayush_arr.nbytes}\")"
   ]
  },
  {
   "cell_type": "code",
   "execution_count": 14,
   "metadata": {},
   "outputs": [
    {
     "name": "stdout",
     "output_type": "stream",
     "text": [
      "[ 10.    13.75  17.5   21.25  25.    28.75  32.5   36.25  40.    43.75\n",
      "  47.5   51.25  55.    58.75  62.5   66.25  70.    73.75  77.5   81.25\n",
      "  85.    88.75  92.5   96.25 100.  ]\n",
      "[ 10.    13.75  17.5   21.25  25.    28.75  32.5   36.25  40.    43.75\n",
      "  47.5   51.25  55.    58.75  62.5   66.25  70.    73.75  77.5   81.25\n",
      "  85.    88.75  92.5   96.25 100.  ]\n"
     ]
    }
   ],
   "source": [
    "print(Ayush_arr.reshape(25))   ## yes we can make transpaose using reshape function also\n",
    "print(Ayush_arr.T)"
   ]
  },
  {
   "cell_type": "markdown",
   "metadata": {},
   "source": [
    "Q5. Create a 2-D Array of three rows and four columns, named ucs420_<your_name>>\n",
    "with following values – 10, 20, 30, 40, 50, 60, 70, 80, 90, 15, 20, 35. Compute the mean,\n",
    "median, max, min, unique elements. Reshape the array to four rows and three columns and\n",
    "name it as reshaped_ ucs420_<your_name>>. Resize the array to two rows and three\n",
    "columns and name it as resized_ ucs420_<your_name>>."
   ]
  },
  {
   "cell_type": "code",
   "execution_count": 16,
   "metadata": {},
   "outputs": [],
   "source": [
    "ucs_420_Ayush=np.array([[10, 20, 30, 40],[50, 60, 70, 80], [90, 15, 20, 35]])"
   ]
  },
  {
   "cell_type": "code",
   "execution_count": 23,
   "metadata": {},
   "outputs": [
    {
     "name": "stdout",
     "output_type": "stream",
     "text": [
      "dimensions : 2\n",
      "mean: 43.333333333333336\n",
      "max:90\n",
      "min:10\n",
      "UNIque elements:[10 15 20 30 35 40 50 60 70 80 90]\n"
     ]
    }
   ],
   "source": [
    "print(f\"dimensions : {ucs_420_Ayush.ndim}\")\n",
    "print(f\"mean: {ucs_420_Ayush.mean()}\")\n",
    "print(f\"max:{ucs_420_Ayush.max()}\")\n",
    "print(f\"min:{ucs_420_Ayush.min()}\")\n",
    "print(f\"UNIque elements:{np.unique(ucs_420_Ayush)}\")"
   ]
  },
  {
   "cell_type": "code",
   "execution_count": 25,
   "metadata": {},
   "outputs": [
    {
     "name": "stdout",
     "output_type": "stream",
     "text": [
      "[[10 20 30]\n",
      " [40 50 60]\n",
      " [70 80 90]\n",
      " [15 20 35]]\n"
     ]
    }
   ],
   "source": [
    "reshaped_ucs40_Ayush=np.reshape(ucs_420_Ayush,newshape=[4,3])\n",
    "print(reshaped_ucs40_Ayush)"
   ]
  },
  {
   "cell_type": "code",
   "execution_count": 27,
   "metadata": {},
   "outputs": [
    {
     "name": "stdout",
     "output_type": "stream",
     "text": [
      "[[10 20 30]\n",
      " [40 50 60]]\n"
     ]
    }
   ],
   "source": [
    "resized_ucs_420=np.resize(ucs_420_Ayush,new_shape=[2,3])\n",
    "print(resized_ucs_420)"
   ]
  },
  {
   "cell_type": "markdown",
   "metadata": {},
   "source": [
    "----------------------COMPLETEED-------------"
   ]
  },
  {
   "cell_type": "code",
   "execution_count": null,
   "metadata": {},
   "outputs": [],
   "source": []
  }
 ],
 "metadata": {
  "kernelspec": {
   "display_name": "Python 3",
   "language": "python",
   "name": "python3"
  },
  "language_info": {
   "codemirror_mode": {
    "name": "ipython",
    "version": 3
   },
   "file_extension": ".py",
   "mimetype": "text/x-python",
   "name": "python",
   "nbconvert_exporter": "python",
   "pygments_lexer": "ipython3",
   "version": "3.12.0"
  }
 },
 "nbformat": 4,
 "nbformat_minor": 4
}
